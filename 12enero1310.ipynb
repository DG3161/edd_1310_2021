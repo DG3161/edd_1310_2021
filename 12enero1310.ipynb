{
  "nbformat": 4,
  "nbformat_minor": 0,
  "metadata": {
    "colab": {
      "name": "12enero1310.ipynb",
      "provenance": [],
      "authorship_tag": "ABX9TyP0+LFEbxVIkuZse8A+UKpf",
      "include_colab_link": true
    },
    "kernelspec": {
      "name": "python3",
      "display_name": "Python 3"
    }
  },
  "cells": [
    {
      "cell_type": "markdown",
      "metadata": {
        "id": "view-in-github",
        "colab_type": "text"
      },
      "source": [
        "<a href=\"https://colab.research.google.com/github/DG3161/edd_1310_2021/blob/master/12enero1310.ipynb\" target=\"_parent\"><img src=\"https://colab.research.google.com/assets/colab-badge.svg\" alt=\"Open In Colab\"/></a>"
      ]
    },
    {
      "cell_type": "code",
      "metadata": {
        "id": "DVSp_CeVlm9l"
      },
      "source": [
        "def factorial( n ):\r\n",
        "    if n == 0:\r\n",
        "        return 1\r\n",
        "    else:\r\n",
        "        return factorial(n -1) * n\r\n",
        "\r\n",
        "def printRev( n ): #3\r\n",
        "    if n > 0:\r\n",
        "        printRev( n - 1 )\r\n",
        "        print( n )\r\n",
        "        \r\n",
        "def fibinacci( n ):\r\n",
        "    if n == 1 or n == 0:\r\n",
        "        return n\r\n",
        "    if n > 1:\r\n",
        "        fibonacci(n-1) + fibonacci(n-2)\r\n",
        "\r\n",
        "\r\n",
        "def main():\r\n",
        "    for num in range(1, 11, 1):\r\n",
        "        r = factorial(num)\r\n",
        "        print(f\"El factorial de { num } es {r}\")\r\n",
        "\r\n",
        "def main2():\r\n",
        "    printRev(3)\r\n",
        "\r\n",
        "def main3():\r\n",
        "    for num in range(11):\r\n",
        "        print((fibonacci(num)) + \",\" , end=\"\")\r\n",
        "    print(\"\")"
      ],
      "execution_count": 28,
      "outputs": []
    }
  ]
}