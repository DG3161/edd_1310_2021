{
  "nbformat": 4,
  "nbformat_minor": 0,
  "metadata": {
    "colab": {
      "name": "Untitled7.ipynb",
      "provenance": [],
      "authorship_tag": "ABX9TyOrms31vrNCLhImG6oJvpdF",
      "include_colab_link": true
    },
    "kernelspec": {
      "name": "python3",
      "display_name": "Python 3"
    }
  },
  "cells": [
    {
      "cell_type": "markdown",
      "metadata": {
        "id": "view-in-github",
        "colab_type": "text"
      },
      "source": [
        "<a href=\"https://colab.research.google.com/github/DG3161/edd_1310_2021/blob/master/24denoviembre1310.ipynb\" target=\"_parent\"><img src=\"https://colab.research.google.com/assets/colab-badge.svg\" alt=\"Open In Colab\"/></a>"
      ]
    },
    {
      "cell_type": "code",
      "metadata": {
        "id": "sPPHY_82RCw4"
      },
      "source": [
        "class Nodo:  \n",
        "    def __init__(self, value,siguiente=None):\n",
        "        self.data = value \n",
        "        self.siguiente = siguiente\n",
        "\n",
        "class LinkedList:\n",
        "    def __init__(self):\n",
        "        self.__head= None\n",
        "\n",
        "class NodoDouble:\n",
        "    def __init__(self,value,anterior = None,siguiente = None):\n",
        "        self.data=value\n",
        "        self.next=siguiente\n",
        "        self.prev=anterior\n",
        "\n",
        "class LinkedDoubleList:\n",
        "    def __init__(self):\n",
        "        self.__head = None\n",
        "        self.__tail = None \n",
        "        self.__size=0\n",
        "\n",
        "    def get_size(self):\n",
        "        return self.__size\n",
        "\n",
        "    def is_empty(self):\n",
        "        return self.__head == None\n",
        "\n",
        "    def append(self,value): \n",
        "        if self.is_empty():\n",
        "            new = NodoDouble(value)\n",
        "            self.__head=self.__tail=new\n",
        "        else:\n",
        "            new = NodoDouble(value,self.__tail,None)\n",
        "            self.__tail.next=new\n",
        "            self.__tail=new\n",
        "        self.__size += 1\n",
        "    def transversal(self):\n",
        "        curr_node=self.__head\n",
        "        while curr_node != None:\n",
        "            print(f\"<--{curr_node.data}-->\",end=\"\")\n",
        "            curr_node=curr_node.next\n",
        "        print(\"\")\n",
        "\n",
        "    def reverse_transversal(self):\n",
        "        curr_node=self.__tail\n",
        "        while curr_node != None:\n",
        "            print(f\"<--{curr_node.data}-->\",end=\"\")\n",
        "            curr_node=curr_node.prev\n",
        "        print(\"\")\n",
        "\n",
        "    def remove_from_head(self,value):\n",
        "        curr_node=self.__head\n",
        "        \n",
        "        if self.__head.data == value:\n",
        "            self.__head = self.__head.next\n",
        "            self.__head.prev = None\n",
        "            self.__tail = self.__tail.\n",
        "            \n",
        "        while curr_node.data != value and curr_node != None:\n",
        "            curr_node=curr_node.next\n",
        "        if curr_node.data == value:\n",
        "            curr_node.prev.next=curr_node.next\n",
        "            curr_node.next.prev=curr_node.prev\n",
        "        \n",
        "        curr_node.next =None\n",
        "        curr_node.prev =None\n",
        "        self.__size -= 1\n"
      ],
      "execution_count": null,
      "outputs": []
    },
    {
      "cell_type": "code",
      "metadata": {
        "id": "k5tU1mU_lPZ5"
      },
      "source": [
        "from listtwo import LinkedDoubleList\n",
        "\n",
        "ld= LinkedDoubleList()\n",
        "print(f\"Esta vacia? {ld.is_empty()}\")\n",
        "ld.append(10)\n",
        "ld.append(20)\n",
        "ld.append(30)\n",
        "print(f\"La lista tiene {ld.get_size()} elementos\")\n",
        "ld.transversal()\n",
        "ld.reverse_transversal()"
      ],
      "execution_count": null,
      "outputs": []
    }
  ]
}