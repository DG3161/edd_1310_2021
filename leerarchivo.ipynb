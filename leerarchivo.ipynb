{
  "nbformat": 4,
  "nbformat_minor": 0,
  "metadata": {
    "colab": {
      "name": "Untitled2.ipynb",
      "provenance": [],
      "authorship_tag": "ABX9TyPJqPECDxUgYeEaItoSeqr/",
      "include_colab_link": true
    },
    "kernelspec": {
      "name": "python3",
      "display_name": "Python 3"
    }
  },
  "cells": [
    {
      "cell_type": "markdown",
      "metadata": {
        "id": "view-in-github",
        "colab_type": "text"
      },
      "source": [
        "<a href=\"https://colab.research.google.com/github/DG3161/edd_1310_2021/blob/master/leerarchivo.ipynb\" target=\"_parent\"><img src=\"https://colab.research.google.com/assets/colab-badge.svg\" alt=\"Open In Colab\"/></a>"
      ]
    },
    {
      "cell_type": "code",
      "metadata": {
        "id": "b7NnWy56bSre",
        "outputId": "7ebd07d8-23a0-4d60-aebd-ea804ae723cf",
        "colab": {
          "base_uri": "https://localhost:8080/",
          "height": 238
        }
      },
      "source": [
        "fic = open('Datos.txt', \"r\")\n",
        "lines = fic.readlines()\n",
        "fic.close()\n",
        "\n",
        "TL=range(len(lines))\n",
        "total = 0\n",
        "for z in TL:\n",
        "  st2 = \"\"\n",
        "  st = lines[z]\n",
        "  th = range(len(st))\n",
        "  \n",
        "  for x in th:\n",
        "     if st[x].isdigit() or st[x]==\",\":\n",
        "           st2 += st[x]\n",
        "  st2 = st2.split(\",\")\n",
        "\n",
        "  if \"\" in st2:\n",
        "    st2.clear()\n",
        "  \n",
        "  if len(st2)>1 and st2[0].isdigit():\n",
        "     for e in st2[0:-1]:\n",
        "       print(e + \"+\", end=\"\")\n",
        "     print(st2[-1] + \" = \", end=\"\")\n",
        "     \n",
        "     suma = 0\n",
        "     th = range(len(st2))\n",
        "     for y in th:\n",
        "       suma += int(st2[y])\n",
        "     print(suma)\n",
        "     total += suma\n",
        "print(\"Gran Total = \", end=\"\")\n",
        "print(total)\n",
        "total = input()\n",
        "\n",
        "\n",
        "\n",
        "      \n",
        "\n"
      ],
      "execution_count": null,
      "outputs": [
        {
          "output_type": "stream",
          "text": [
            "1+2+1+14+29+45+5+58+56+10+29+14+88+17+4+3+1+7+12+10 = 406\n",
            "2+23+5+8+44+2+2+13+5+9+10+16+98+76+47+1+1+3+2 = 367\n",
            "3+87+15+11+9+7+90+97+21+3+4+1+8+88+74+32+34+43+17+77+93 = 814\n",
            "4+46+8+1+6+2+10+37+84+4+5+9+10+2+6+3+1+1+1+8+4+20+33+23+18+45 = 391\n",
            "55+3+2+29+58+83+9+17+1+43+20+93+31+46+43+77+8+44+45+17+62 = 786\n",
            "6+74+13+44+18+45+11+93+2+1+1+1+25+1+42+18+22+44+52 = 513\n",
            "7+88+93+6+54+2+8+1+41+86+79+33+48+9+32+63+18+7+33+2+1+16+11+7 = 745\n",
            "8+0+22+17+30+6+2+12+47+37+34+85+47+33+2+6+8+4+5+29+30+42+77+2 = 585\n",
            "9+2+3+4+1+1+3+6+7+7+8+9+5+1+3+4+9+10+12+3+1+5+6+22+11+0+2 = 154\n",
            "1+0+2+55+9+3+55+23+1+6+9+4+5+3+3+2+1+3+8+1+6+10+0+1+5+1+3 = 220\n",
            "Gran Total = 4981\n"
          ],
          "name": "stdout"
        }
      ]
    }
  ]
}