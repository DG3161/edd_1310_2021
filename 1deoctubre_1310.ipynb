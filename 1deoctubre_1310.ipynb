{
  "nbformat": 4,
  "nbformat_minor": 0,
  "metadata": {
    "colab": {
      "name": "1deoctubre.ipynb",
      "provenance": [],
      "authorship_tag": "ABX9TyNNggqIgNc2fvJqCBfefNpo",
      "include_colab_link": true
    },
    "kernelspec": {
      "name": "python3",
      "display_name": "Python 3"
    }
  },
  "cells": [
    {
      "cell_type": "markdown",
      "metadata": {
        "id": "view-in-github",
        "colab_type": "text"
      },
      "source": [
        "<a href=\"https://colab.research.google.com/github/DG3161/edd_1310_2021/blob/master/1deoctubre_1310.ipynb\" target=\"_parent\"><img src=\"https://colab.research.google.com/assets/colab-badge.svg\" alt=\"Open In Colab\"/></a>"
      ]
    },
    {
      "cell_type": "code",
      "metadata": {
        "id": "512dxz7U6GgK"
      },
      "source": [
        ""
      ],
      "execution_count": null,
      "outputs": []
    },
    {
      "cell_type": "markdown",
      "metadata": {
        "id": "IRAX0BqC8NMc"
      },
      "source": [
        "variables \n",
        "tipo dinamico\n",
        "\n",
        "\n"
      ]
    },
    {
      "cell_type": "code",
      "metadata": {
        "id": "_lJFouMp8ah2",
        "outputId": "fa403895-387b-4703-847d-8fd2ad1b0c1b",
        "colab": {
          "base_uri": "https://localhost:8080/",
          "height": 201
        }
      },
      "source": [
        "escuela = \"FES Aragón\"\n",
        "print(escuela)\n",
        "print(\"---------\")\n",
        "edad = 13\n",
        "estatura = 1.67\n",
        "fumador = True\n",
        "frase = \"\"\"\n",
        "Esta es \n",
        "una \n",
        "frase\n",
        "de multiples líneas\n",
        "y tambien es\n",
        "un tipo de dato\n",
        "\"\"\"\n",
        "print(frase)\n",
        "nombre = 'jose'\n",
        "nombre_completo = \"jose sosa cardenas\""
      ],
      "execution_count": 3,
      "outputs": [
        {
          "output_type": "stream",
          "text": [
            "FES Aragón\n",
            "---------\n",
            "\n",
            "Esta es \n",
            "una \n",
            "frase\n",
            "de multiples líneas\n",
            "y tambien es\n",
            "un tipo de dato\n",
            "\n"
          ],
          "name": "stdout"
        }
      ]
    },
    {
      "cell_type": "markdown",
      "metadata": {
        "id": "kBdPw8qg-EFS"
      },
      "source": [
        "# **Print** \n",
        "\n",
        "con comas        \"deja espacio entre las variables\"\n",
        "\n",
        "con signo más +\n",
        "\n",
        "con formato ()\n",
        "\n",
        "con el operador f\"\"\n",
        " \n",
        " \n",
        " las palabras se separan con \"sanke case (un \"_\")"
      ]
    },
    {
      "cell_type": "code",
      "metadata": {
        "id": "1vn9RSXg-LH8",
        "outputId": "f70d383c-9549-400f-e168-49aaef6b92c9",
        "colab": {
          "base_uri": "https://localhost:8080/",
          "height": 35
        }
      },
      "source": [
        "print(nombre,edad)\n",
        "\n"
      ],
      "execution_count": 4,
      "outputs": [
        {
          "output_type": "stream",
          "text": [
            "jose 13\n"
          ],
          "name": "stdout"
        }
      ]
    },
    {
      "cell_type": "code",
      "metadata": {
        "id": "jx95sAUw_aFf",
        "outputId": "5ff8d05d-a217-40bc-b6ac-a3856a3d4260",
        "colab": {
          "base_uri": "https://localhost:8080/",
          "height": 54
        }
      },
      "source": [
        "#+ concatena\n",
        "print(nombre + str(edad))\n",
        "print(nombre+nombre_completo)\n"
      ],
      "execution_count": 5,
      "outputs": [
        {
          "output_type": "stream",
          "text": [
            "jose13\n",
            "josejose sosa cardenas\n"
          ],
          "name": "stdout"
        }
      ]
    },
    {
      "cell_type": "code",
      "metadata": {
        "id": "QDjW2hTEAX4_",
        "outputId": "25a6319e-0009-49b8-e669-60939349165e",
        "colab": {
          "base_uri": "https://localhost:8080/",
          "height": 72
        }
      },
      "source": [
        "# con formato _> Su nombre es José y su edad es de 13 años\n",
        "print(\"su nombre es\",nombre,\"y su edad es de\",edad,\"años.\")\n",
        "print(\"su nombre es {0} y su edad es de {1} años.\".format(nombre,edad) ) \n",
        "print(\"su nombre es {1} y su edad es de {0} años.\".format(nombre,edad) )"
      ],
      "execution_count": 8,
      "outputs": [
        {
          "output_type": "stream",
          "text": [
            "su nombre es jose y su edad es de 13 años.\n",
            "su nombre es jose y su edad es de 13 años.\n",
            "su nombre es 13 y su edad es de jose años.\n"
          ],
          "name": "stdout"
        }
      ]
    },
    {
      "cell_type": "code",
      "metadata": {
        "id": "fHs8kOmqB_qI",
        "outputId": "564a96bd-21cc-4cb4-a09a-179ef879fb36",
        "colab": {
          "base_uri": "https://localhost:8080/",
          "height": 35
        }
      },
      "source": [
        "# con formato con el operador f\"\"\n",
        "\n",
        "print(f\"Su nombre es {nombre} y su edad es de {edad} años.\")\n"
      ],
      "execution_count": 9,
      "outputs": [
        {
          "output_type": "stream",
          "text": [
            "Su nombre es jose y su edad es de 13 años.\n"
          ],
          "name": "stdout"
        }
      ]
    },
    {
      "cell_type": "markdown",
      "metadata": {
        "id": "zbB4jMJrCXRJ"
      },
      "source": [
        "# Carácter de escape\n",
        "\n",
        "\\n salto de linea\n",
        "\n",
        "\\t tabulador\n",
        "\n",
        "\\a beep\n",
        "\n",
        "\\\" imprime comillas\n",
        "\n",
        "\\' imprime comilla simple\n",
        "\n",
        "\"\"\"\n",
        "comentario \n",
        "de\n",
        "multiple\n",
        "linea\n",
        "\"\"\"\n",
        "\n"
      ]
    },
    {
      "cell_type": "code",
      "metadata": {
        "id": "6GeZ_1ruDaq2",
        "outputId": "633ee2c7-7071-47c2-b427-13f880922ba3",
        "colab": {
          "base_uri": "https://localhost:8080/",
          "height": 54
        }
      },
      "source": [
        "\"\"\"\n",
        "Esto es\n",
        "un comentario\n",
        "de múltiple línea\n",
        "tan tan\n",
        "\"\"\"\n",
        "print(f\"\\tMi nombre es\\n\\t\\t {nombre}\")\n"
      ],
      "execution_count": 12,
      "outputs": [
        {
          "output_type": "stream",
          "text": [
            "\tMi nombre es\n",
            "\t\t jose\n"
          ],
          "name": "stdout"
        }
      ]
    },
    {
      "cell_type": "code",
      "metadata": {
        "id": "x_qRYbduEDXr"
      },
      "source": [
        ""
      ],
      "execution_count": null,
      "outputs": []
    },
    {
      "cell_type": "markdown",
      "metadata": {
        "id": "Mh5C6wvOEEyG"
      },
      "source": [
        "# *Ayuda de tipos de dato en python*\n",
        "dir()\n",
        "help()\n"
      ]
    },
    {
      "cell_type": "code",
      "metadata": {
        "id": "Gnlm4uszESBA"
      },
      "source": [
        "# str, int, float, bool ... list, dict, set\n",
        "dir(str)\n",
        "help(str)\n"
      ],
      "execution_count": null,
      "outputs": []
    },
    {
      "cell_type": "code",
      "metadata": {
        "id": "-HRyGN2iFVc2",
        "outputId": "4def07bf-e330-4450-8cf7-8ac9fb070153",
        "colab": {
          "base_uri": "https://localhost:8080/",
          "height": 54
        }
      },
      "source": [
        "print(nombre_completo.capitalize())\n",
        "print(nombre_completo.upper() , end=\"------\" )\n",
        "print(nombre_completo.title())"
      ],
      "execution_count": 18,
      "outputs": [
        {
          "output_type": "stream",
          "text": [
            "Jose sosa cardenas\n",
            "JOSE SOSA CARDENAS------Jose Sosa Cardenas\n"
          ],
          "name": "stdout"
        }
      ]
    },
    {
      "cell_type": "code",
      "metadata": {
        "id": "dYDmATVBGIa4"
      },
      "source": [
        "help(print)"
      ],
      "execution_count": null,
      "outputs": []
    },
    {
      "cell_type": "markdown",
      "metadata": {
        "id": "OEAkartWGzsc"
      },
      "source": [
        "# *Clase String*\n",
        "es manejada como un arreglo(c o java) o lista (python)\n",
        "'telefono = \"Huawei mate 30 pro\"'\n"
      ]
    },
    {
      "cell_type": "code",
      "metadata": {
        "id": "3g9FiAkkH64Z",
        "outputId": "e275f28f-ddfc-4aab-f2f4-bd5863d4c9f4",
        "colab": {
          "base_uri": "https://localhost:8080/",
          "height": 90
        }
      },
      "source": [
        "telefono = \"Huawei mate 30 pro\"\n",
        "print( telefono[0] )\n",
        "print( telefono[5] )\n",
        "print( telefono[0:5] )\n",
        "print( telefono[0:5:2] )"
      ],
      "execution_count": 24,
      "outputs": [
        {
          "output_type": "stream",
          "text": [
            "H\n",
            "i\n",
            "Huawe\n",
            "Hae\n"
          ],
          "name": "stdout"
        }
      ]
    },
    {
      "cell_type": "markdown",
      "metadata": {
        "id": "ZkcYYLH4IRcr"
      },
      "source": [
        "# *Slicing (rebanado)*\n",
        "[ini:stop:incremento]\n",
        "nota: el stop no se incluye, termina en el valor anterior al stop\n"
      ]
    },
    {
      "cell_type": "code",
      "metadata": {
        "id": "U0VoaeYdIRIr",
        "outputId": "c53c637a-aaa4-484f-fb5b-c0c26c8af872",
        "colab": {
          "base_uri": "https://localhost:8080/",
          "height": 109
        }
      },
      "source": [
        "print(telefono[7:11:1])\n",
        "#el inicio y el incremento son opcionales\n",
        "print( telefono[:11:] )\n",
        "#el valor por defecto de stop es len(str)\n",
        "print( telefono[::] )\n",
        "# incremento negativo\n",
        "print( telefono[::-1] )\n",
        "# slacing negativo\n",
        "ini = -3\n",
        "inc = 1\n",
        "\n",
        "print( telefono[ini::inc] )"
      ],
      "execution_count": 32,
      "outputs": [
        {
          "output_type": "stream",
          "text": [
            "mate\n",
            "Huawei mate\n",
            "Huawei mate 30 pro\n",
            "orp 03 etam iewauH\n",
            "pro\n"
          ],
          "name": "stdout"
        }
      ]
    },
    {
      "cell_type": "markdown",
      "metadata": {
        "id": "xappe49LNQ5r"
      },
      "source": [
        "# *Métodos de string (str)*\n",
        "Existen métodos muy útiles en ésta clase.\n"
      ]
    },
    {
      "cell_type": "code",
      "metadata": {
        "id": "DUEomkzRNfKQ",
        "outputId": "253e7c88-8c1f-4a5a-93ce-9cecfa9557f7",
        "colab": {
          "base_uri": "https://localhost:8080/",
          "height": 274
        }
      },
      "source": [
        "facultad = \"    facultad de estudios superiores aragon      \"\n",
        "print(facultad)\n",
        "print(facultad.count(\" \") ) #cuenta cuantos hay\n",
        "print(facultad.find(\"s\")) #dice el indice de la primera coincidencia\n",
        "print( facultad.strip()) #quita espacios y saltos de linea\n",
        "print(len(facultad))\n",
        "tamaño = len(facultad)\n",
        "print(f\"tamaño de la cadena es {tamaño} caracteres\")\n",
        "print(facultad)\n",
        "print(facultad.strip().split(\" \"))\n",
        "print(\"-------------\")\n",
        "\n",
        "\n",
        "#copiar cadenas\n",
        "otra_cadena = facultad\n",
        "print(otra_cadena)\n",
        "facultad = \"FES Aragón\"\n",
        "print(facultad)\n",
        "print(otra_cadena)\n",
        "\n",
        "#copiar listas\n",
        "colores = [\"rojo,verde\"]\n",
        "otra = colores\n",
        "otra.append(\"rosa\")\n",
        "print(colores)\n",
        "print(otra)\n",
        "\n",
        "\n",
        "\n",
        "\n",
        "\n"
      ],
      "execution_count": 55,
      "outputs": [
        {
          "output_type": "stream",
          "text": [
            "    facultad de estudios superiores aragon      \n",
            "14\n",
            "17\n",
            "facultad de estudios superiores aragon\n",
            "48\n",
            "tamaño de la cadena es 48 caracteres\n",
            "    facultad de estudios superiores aragon      \n",
            "['facultad', 'de', 'estudios', 'superiores', 'aragon']\n",
            "-------------\n",
            "    facultad de estudios superiores aragon      \n",
            "FES Aragón\n",
            "    facultad de estudios superiores aragon      \n",
            "['rojo,verde', 'rosa']\n",
            "['rojo,verde', 'rosa']\n"
          ],
          "name": "stdout"
        }
      ]
    }
  ]
}