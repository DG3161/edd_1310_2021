{
  "nbformat": 4,
  "nbformat_minor": 0,
  "metadata": {
    "colab": {
      "name": "27octubre_1310.ipynb",
      "provenance": [],
      "authorship_tag": "ABX9TyOPCrUcJcMFxiditpf6X3F/",
      "include_colab_link": true
    },
    "kernelspec": {
      "name": "python3",
      "display_name": "Python 3"
    }
  },
  "cells": [
    {
      "cell_type": "markdown",
      "metadata": {
        "id": "view-in-github",
        "colab_type": "text"
      },
      "source": [
        "<a href=\"https://colab.research.google.com/github/DG3161/edd_1310_2021/blob/master/27octubre_1310.ipynb\" target=\"_parent\"><img src=\"https://colab.research.google.com/assets/colab-badge.svg\" alt=\"Open In Colab\"/></a>"
      ]
    },
    {
      "cell_type": "code",
      "metadata": {
        "id": "OX39R1DR_w2a",
        "outputId": "7e5c63fa-3c73-4752-ef24-d1a61ca3ccc5",
        "colab": {
          "base_uri": "https://localhost:8080/",
          "height": 72
        }
      },
      "source": [
        "class Computadora:\n",
        "    def __init__( self , m , p):\n",
        "        self.__marca = m\n",
        "        self.__procesador = p\n",
        "\n",
        "    def to_string( self ):\n",
        "        return \"Marca:\"+self.__marca+\" Procesador:\"+self.__procesador\n",
        "\n",
        "    def set_marca( self , m ):\n",
        "        self.__marca = m \n",
        "\n",
        "    def get_marca( self ):\n",
        "        return self.__marca         \n",
        "\n",
        "    def set_procesador( self , p ):\n",
        "        self.__procesador = p\n",
        "\n",
        "    def get_procesador( self ):\n",
        "        return self.__procesador\n",
        "\n",
        "mi_pc = Computadora(\"Toshiba\",\"Intel i7\")\n",
        "print(mi_pc.to_string())\n",
        "mi_pc.__marca=\"HP \"  # intentando cambiar el valor privado\n",
        "mi_pc.set_marca(\"HP co.\")\n",
        "print(mi_pc.to_string())\n",
        "#print(mi_pc.__procesador)\n",
        "print(mi_pc.get_procesador() )\n",
        "\n"
      ],
      "execution_count": 15,
      "outputs": [
        {
          "output_type": "stream",
          "text": [
            "Marca:Toshiba Procesador:Intel i7\n",
            "Marca:HP co. Procesador:Intel i7\n",
            "Intel i7\n"
          ],
          "name": "stdout"
        }
      ]
    },
    {
      "cell_type": "markdown",
      "metadata": {
        "id": "Jhkj4yQDEH-F"
      },
      "source": [
        "# *Encapsulamiento en python*\n",
        "\n",
        "## tradicional tipo java\n",
        "    setAtributo( val )\n",
        "    tipo getAtributo( )\n",
        "\n",
        "## Estilo pithon 3\n",
        "UTILIZANDO DECORADORES\n",
        "- @property\n",
        "- @atributo.setter\n"
      ]
    },
    {
      "cell_type": "code",
      "metadata": {
        "id": "s8aezBMYH1ex",
        "outputId": "10577453-7979-41e2-dfb1-409c9eecbfa6",
        "colab": {
          "base_uri": "https://localhost:8080/",
          "height": 109
        }
      },
      "source": [
        "class Computadora:\n",
        "    def __init__( self , m , p ):\n",
        "        self.marca = m # se manda llamar el decorador @property\n",
        "        self.procesador = p #idem\n",
        "\n",
        "    @property  #se declara como atributo privado y funciona como metodo get\n",
        "    def marca( self ):\n",
        "        return self.__marca\n",
        "\n",
        "    @marca.setter\n",
        "    def marca( self , m ):\n",
        "        print(\"En el setter de marca\")\n",
        "        self.__marca = m\n",
        "\n",
        "    @property\n",
        "    def procesador(self):\n",
        "        return self.__procesador\n",
        "\n",
        "    @procesador.setter\n",
        "    def procesador(self , p):\n",
        "        print(\"En el método procesador\")\n",
        "        self.__procesador = p\n",
        "\n",
        "    def to_string( self ):\n",
        "        return \"marca:\" + self.marca + \"Procesador:\"+self.procesador\n",
        "\n",
        "mi_pc2 = Computadora(\"Mac Book pro\" , \"Intel i7\")\n",
        "print(mi_pc.to_string())\n",
        "mi_pc2.marca = \"Dell\"\n",
        "print(mi_pc2.to_string())\n",
        "\n"
      ],
      "execution_count": 28,
      "outputs": [
        {
          "output_type": "stream",
          "text": [
            "En el setter de marca\n",
            "En el método procesador\n",
            "Marca:HP co. Procesador:Intel i7\n",
            "En el setter de marca\n",
            "marca:DellProcesador:Intel i7\n"
          ],
          "name": "stdout"
        }
      ]
    },
    {
      "cell_type": "code",
      "metadata": {
        "id": "ep58kTXQQlGK",
        "outputId": "996a182d-b042-4f2c-d007-1828a999dbb5",
        "colab": {
          "base_uri": "https://localhost:8080/",
          "height": 90
        }
      },
      "source": [
        "# herencia , pasando la clase base a la declaración\n",
        "class ServidorEmpresarial( Computadora):\n",
        "    def __init__(self):\n",
        "        print(\"Hola servidor\")\n",
        "\n",
        "server = ServidorEmpresarial()\n",
        "server.marca = \"Sun Micro Systems   \"\n",
        "server.procesador = \"intel i7\"\n",
        "print(server.to_string())"
      ],
      "execution_count": 32,
      "outputs": [
        {
          "output_type": "stream",
          "text": [
            "Hola servidor\n",
            "En el setter de marca\n",
            "En el método procesador\n",
            "marca:Sun Micro Systems   Procesador:intel i7\n"
          ],
          "name": "stdout"
        }
      ]
    }
  ]
}