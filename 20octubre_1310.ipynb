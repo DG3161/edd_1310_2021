{
  "nbformat": 4,
  "nbformat_minor": 0,
  "metadata": {
    "colab": {
      "name": "Untitled3.ipynb",
      "provenance": [],
      "authorship_tag": "ABX9TyNzeiTrI7+0zSTyRTNZjby8",
      "include_colab_link": true
    },
    "kernelspec": {
      "name": "python3",
      "display_name": "Python 3"
    }
  },
  "cells": [
    {
      "cell_type": "markdown",
      "metadata": {
        "id": "view-in-github",
        "colab_type": "text"
      },
      "source": [
        "<a href=\"https://colab.research.google.com/github/DG3161/edd_1310_2021/blob/master/20octubre_1310.ipynb\" target=\"_parent\"><img src=\"https://colab.research.google.com/assets/colab-badge.svg\" alt=\"Open In Colab\"/></a>"
      ]
    },
    {
      "cell_type": "code",
      "metadata": {
        "id": "q0AC8QgeziDn",
        "outputId": "6bea8660-081a-4441-d7a5-6c676cf6a0de",
        "colab": {
          "base_uri": "https://localhost:8080/",
          "height": 293
        }
      },
      "source": [
        "archivo = open('numeros.txt','rt')\n",
        "for linea in archivo.readlines():\n",
        "    for trunc in linea.split(','):\n",
        "      print(int(trunc.strip()))\n"
      ],
      "execution_count": 6,
      "outputs": [
        {
          "output_type": "stream",
          "text": [
            "23\n",
            "23\n",
            "44\n",
            "55\n",
            "5\n",
            "44\n",
            "4\n",
            "5\n",
            "7\n",
            "7\n",
            "6\n",
            "5\n",
            "4\n",
            "2\n",
            "1\n"
          ],
          "name": "stdout"
        }
      ]
    },
    {
      "cell_type": "markdown",
      "metadata": {
        "id": "gP7jqUhT2pHC"
      },
      "source": [
        "# *Sintaxis del for en python*\n",
        "\n",
        "2 versiones del for \n",
        "    \n",
        "  1. range\n",
        "  2. in iterador"
      ]
    },
    {
      "cell_type": "code",
      "metadata": {
        "id": "ray5LYft2_Ww",
        "outputId": "45f8dae3-f6c3-4a2a-81f2-1a856e3803f4",
        "colab": {
          "base_uri": "https://localhost:8080/",
          "height": 182
        }
      },
      "source": [
        "r = range(0,10,2)\n",
        "for x in r:\n",
        "  print(x)\n",
        "\n",
        "colores = ['rojo', 'rosa', 'azul', 'fucsia']\n",
        "\n",
        "for indice in range(0,4,1): #for(indice = 0; indice < 4; indice++)\n",
        "   # print(colores[indice])\n",
        "    colores[indice] = colores[indice] + str(indice)\n",
        "\n",
        "# for sobre un iterador\n",
        "\n",
        "for col in colores:\n",
        "    print(col)\n"
      ],
      "execution_count": 18,
      "outputs": [
        {
          "output_type": "stream",
          "text": [
            "0\n",
            "2\n",
            "4\n",
            "6\n",
            "8\n",
            "rojo0\n",
            "rosa1\n",
            "azul2\n",
            "fucsia3\n"
          ],
          "name": "stdout"
        }
      ]
    },
    {
      "cell_type": "markdown",
      "metadata": {
        "id": "49TVzbMW8YDn"
      },
      "source": [
        "# Generadores \n",
        "[\"hola\" for x in range(10)]\n",
        "\n",
        "[[0,0,0],\n",
        " [0,0,0],\n",
        " [0,0,0]]\n"
      ]
    },
    {
      "cell_type": "code",
      "metadata": {
        "id": "JqCX8vn48owL",
        "outputId": "91914686-dc1e-48f8-ed0f-ef9f43a1ad17",
        "colab": {
          "base_uri": "https://localhost:8080/",
          "height": 54
        }
      },
      "source": [
        "lista =[0 for x in range(10)]\n",
        "print(lista)\n",
        "\n",
        "lis =[[0,0,0] for x in range(3)]\n",
        "print(lis)"
      ],
      "execution_count": 21,
      "outputs": [
        {
          "output_type": "stream",
          "text": [
            "[0, 0, 0, 0, 0, 0, 0, 0, 0, 0]\n",
            "[[0, 0, 0], [0, 0, 0], [0, 0, 0]]\n"
          ],
          "name": "stdout"
        }
      ]
    },
    {
      "cell_type": "code",
      "metadata": {
        "id": "uNpnCMPl91zr",
        "outputId": "12fc2bb2-7b25-4e33-83e8-5642b40d6d3b",
        "colab": {
          "base_uri": "https://localhost:8080/",
          "height": 35
        }
      },
      "source": [
        "ren=3\n",
        "col=3\n",
        "lista =[[0 for x in range(col)]  for x in range(ren)] \n",
        "print(lista)\n"
      ],
      "execution_count": 28,
      "outputs": [
        {
          "output_type": "stream",
          "text": [
            "[[0, 0, 0, 0], [0, 0, 0, 0], [0, 0, 0, 0]]\n"
          ],
          "name": "stdout"
        }
      ]
    },
    {
      "cell_type": "markdown",
      "metadata": {
        "id": "-kgzUiRk_F-I"
      },
      "source": [
        "# POO en python\n",
        "- clase\n",
        "- creación de objetos\n",
        "- constructor\n",
        "- encapsulamiento\n",
        "- métodos\n",
        "- atributos\n",
        "- herencia"
      ]
    },
    {
      "cell_type": "code",
      "metadata": {
        "id": "poR5QYKR_cTZ",
        "outputId": "6f6b7eed-d2f2-4c56-caff-82be2f56207a",
        "colab": {
          "base_uri": "https://localhost:8080/",
          "height": 35
        }
      },
      "source": [
        "class Computadora:\n",
        "    def  __init__( self,p,m ):   #2 _ antes y 2 _ después\n",
        "      self.__marca= m\n",
        "      self.__procesador= p\n",
        "      \n",
        "\n",
        "    def to_string( self ):\n",
        "      return \"Marca:\"+self.__marca+\" Procesador:\"+self.__procesador\n",
        "\n",
        "mi_pc = Computadora(\"Toshiba\",\"Intel i7\")\n",
        "mi_pc.__marca=\"HP \"\n",
        "print(mi_pc.to_string())"
      ],
      "execution_count": 42,
      "outputs": [
        {
          "output_type": "stream",
          "text": [
            "Marca:Intel i7 Procesador:Toshiba\n"
          ],
          "name": "stdout"
        }
      ]
    }
  ]
}