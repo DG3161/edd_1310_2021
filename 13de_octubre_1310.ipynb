{
  "nbformat": 4,
  "nbformat_minor": 0,
  "metadata": {
    "colab": {
      "name": "13de octubre_1310.ipynb",
      "provenance": [],
      "authorship_tag": "ABX9TyMt7P9PzELhXJxlQ27CgESG",
      "include_colab_link": true
    },
    "kernelspec": {
      "name": "python3",
      "display_name": "Python 3"
    }
  },
  "cells": [
    {
      "cell_type": "markdown",
      "metadata": {
        "id": "view-in-github",
        "colab_type": "text"
      },
      "source": [
        "<a href=\"https://colab.research.google.com/github/DG3161/edd_1310_2021/blob/master/13de_octubre_1310.ipynb\" target=\"_parent\"><img src=\"https://colab.research.google.com/assets/colab-badge.svg\" alt=\"Open In Colab\"/></a>"
      ]
    },
    {
      "cell_type": "code",
      "metadata": {
        "id": "iIjDO6Ffs0QH",
        "outputId": "919d6d3e-009c-4f51-bc05-8c68d0240565",
        "colab": {
          "base_uri": "https://localhost:8080/",
          "height": 110
        }
      },
      "source": [
        "alumno = { \n",
        "          \"num_cta\" : 303030303 ,\n",
        "          \"carrera\" : \"ICO\",\n",
        "          \"promedio\" : 9.8,\n",
        "          \"materias\" :[\"EDD\",\"CyP\",\"Calidad\",\"Emprendimiento\"],\n",
        "          \"direccion\" : { \n",
        "                            \"calle\":\"rancho seco\",\n",
        "                            \"numero\" : 23 ,\n",
        "                            \"delegacion\" : \"Neza\",\n",
        "                            \"estado\" : {\n",
        "                                        \"id\" : 15 ,\n",
        "                                        \"nombre\" : \"Estado de Máxico\" ,\n",
        "                                        \"nombre_corto\" : \"EdoMex\"\n",
        "                                        } ,\n",
        "                            \"CP\":57170\n",
        "\n",
        "                        } \n",
        "          }\n",
        "print(alumno)\n",
        "alumno['carrera'] = 'ingeniería encomputación'\n",
        "print(alumno)\n",
        "alumno['nombre_completo']={'primer': \"Juan\",\n",
        "                           'segundo': \"Pedro\",\n",
        "                           'materno': \"Perez\",\n",
        "                           'paterno': \"Gómez\"\n",
        "                           }\n",
        "alumno['semestre']=3\n",
        "print(alumno)\n",
        "\n",
        "print(f\"{alumno['nombre_completo']['primer']}{alumno['nombre_completo']['segundo']}\")"
      ],
      "execution_count": 5,
      "outputs": [
        {
          "output_type": "stream",
          "text": [
            "{'num_cta': 303030303, 'carrera': 'ICO', 'promedio': 9.8, 'materias': ['EDD', 'CyP', 'Calidad', 'Emprendimiento'], 'direccion': {'calle': 'rancho seco', 'numero': 23, 'delegacion': 'Neza', 'estado': {'id': 15, 'nombre': 'Estado de Máxico', 'nombre_corto': 'EdoMex'}, 'CP': 57170}}\n",
            "{'num_cta': 303030303, 'carrera': 'ingeniería encomputación', 'promedio': 9.8, 'materias': ['EDD', 'CyP', 'Calidad', 'Emprendimiento'], 'direccion': {'calle': 'rancho seco', 'numero': 23, 'delegacion': 'Neza', 'estado': {'id': 15, 'nombre': 'Estado de Máxico', 'nombre_corto': 'EdoMex'}, 'CP': 57170}}\n",
            "{'num_cta': 303030303, 'carrera': 'ingeniería encomputación', 'promedio': 9.8, 'materias': ['EDD', 'CyP', 'Calidad', 'Emprendimiento'], 'direccion': {'calle': 'rancho seco', 'numero': 23, 'delegacion': 'Neza', 'estado': {'id': 15, 'nombre': 'Estado de Máxico', 'nombre_corto': 'EdoMex'}, 'CP': 57170}, 'nombre_completo': {'primer': 'Juan', 'segundo': 'Pedro', 'materno': 'Perez', 'paterno': 'Gómez'}, 'semestre': 3}\n",
            "JuanPedro\n"
          ],
          "name": "stdout"
        }
      ]
    },
    {
      "cell_type": "code",
      "metadata": {
        "id": "axuhg4sIx_-Z",
        "outputId": "109aa11c-8366-4f28-e3e1-568f835d0df3",
        "colab": {
          "base_uri": "https://localhost:8080/",
          "height": 441
        }
      },
      "source": [
        "# key(), values() y items()\n",
        "\n",
        "llaves = alumno.keys()\n",
        "print(llaves)\n",
        "for llave in llaves:\n",
        "    print(llave.upper())\n",
        "\n",
        "valores = alumno.values()\n",
        "for val in valores:\n",
        "    print(val)\n",
        "\n",
        "pares = alumno.items()\n",
        "print(pares)\n",
        "for elem in pares:\n",
        "    print(elem)"
      ],
      "execution_count": 12,
      "outputs": [
        {
          "output_type": "stream",
          "text": [
            "dict_keys(['num_cta', 'carrera', 'promedio', 'materias', 'direccion', 'nombre_completo', 'semestre'])\n",
            "NUM_CTA\n",
            "CARRERA\n",
            "PROMEDIO\n",
            "MATERIAS\n",
            "DIRECCION\n",
            "NOMBRE_COMPLETO\n",
            "SEMESTRE\n",
            "303030303\n",
            "ingeniería encomputación\n",
            "9.8\n",
            "['EDD', 'CyP', 'Calidad', 'Emprendimiento']\n",
            "{'calle': 'rancho seco', 'numero': 23, 'delegacion': 'Neza', 'estado': {'id': 15, 'nombre': 'Estado de Máxico', 'nombre_corto': 'EdoMex'}, 'CP': 57170}\n",
            "{'primer': 'Juan', 'segundo': 'Pedro', 'materno': 'Perez', 'paterno': 'Gómez'}\n",
            "3\n",
            "('num_cta', 303030303)\n",
            "('carrera', 'ingeniería encomputación')\n",
            "('promedio', 9.8)\n",
            "('materias', ['EDD', 'CyP', 'Calidad', 'Emprendimiento'])\n",
            "('direccion', {'calle': 'rancho seco', 'numero': 23, 'delegacion': 'Neza', 'estado': {'id': 15, 'nombre': 'Estado de Máxico', 'nombre_corto': 'EdoMex'}, 'CP': 57170})\n",
            "('nombre_completo', {'primer': 'Juan', 'segundo': 'Pedro', 'materno': 'Perez', 'paterno': 'Gómez'})\n",
            "('semestre', 3)\n"
          ],
          "name": "stdout"
        }
      ]
    },
    {
      "cell_type": "code",
      "metadata": {
        "id": "EzSTINkU0-uP",
        "outputId": "6bdc1414-489c-4c33-d089-daf21833ad31",
        "colab": {
          "base_uri": "https://localhost:8080/",
          "height": 35
        }
      },
      "source": [
        "computadora = {\"procesador\":\"intel i7\",\"ram\":\"kingston 128GB\"}\n",
        "otros = {\"monitor\":\"LG 49\\\"\",\"hd\":\"Toshiba 1TB\"}\n",
        "computadora.update(otros)\n",
        "print(computadora)"
      ],
      "execution_count": 15,
      "outputs": [
        {
          "output_type": "stream",
          "text": [
            "{'procesador': 'intel i7', 'ram': 'kingston 128GB', 'monitor': 'LG 49\"', 'hd': 'Toshiba 1TB'}\n"
          ],
          "name": "stdout"
        }
      ]
    },
    {
      "cell_type": "markdown",
      "metadata": {
        "id": "GPmnNvVI2sM1"
      },
      "source": [
        "# *Funciones*\n",
        "- son unidades de código reutilizable\n",
        "- es un mecanismo de organizacion de código\n",
        "- una función toma de 0 a n parámetros de entrada\n",
        "- tiene una sola salida (return) de cualquier tipo de dato\n",
        "- solo puedes hacer dos cosas \n",
        "              *   definirla\n",
        "              *   llamarla\n",
        "- se definen con la palabra reservada 'def'\n",
        "\n"
      ]
    },
    {
      "cell_type": "code",
      "metadata": {
        "id": "CGmMFu4T4DkD",
        "outputId": "6e96c34d-068a-4bf8-d466-da4b50fc2d5f",
        "colab": {
          "base_uri": "https://localhost:8080/",
          "height": 201
        }
      },
      "source": [
        "def sumar (x,y):\n",
        "    resultado = x+y\n",
        "    return resultado\n",
        "def saludar(nombre):\n",
        "    print(f\"Hola {nombre}, ¿Cómo estás?\")\n",
        "    return None\n",
        "  \n",
        "# procesar None\n",
        "def multiplicar(valor,veces ):\n",
        "  if valor != None:\n",
        "     c = valor * veces\n",
        "  else:\n",
        "      c = \"operación no válida\"\n",
        "  return c\n",
        "\n",
        "def operacion(a, b, c):\n",
        "  res = a + ( b / c )\n",
        "  return res\n",
        "\n",
        "# valores por defecto\n",
        "def comanda(primer , fuerte , postre ):\n",
        "    print(f\"De entrada pidio:{primer}\")\n",
        "    print(f\"de plato fuerte:{fuerte}\")\n",
        "    print\n",
        "print(sumar(10,5))\n",
        "print(sumar(2,6))\n",
        "saludar(\"Daniel\")\n",
        "print(saludar('Gerardo'))\n",
        "print(multiplicar(5,6))\n",
        "print(multiplicar(None,6))\n",
        "print(operacion(2,9,3))\n",
        "print(operacion(2,3,9))\n",
        "print(operacion(a=2,c=3,b=9))\n",
        "\n"
      ],
      "execution_count": 28,
      "outputs": [
        {
          "output_type": "stream",
          "text": [
            "15\n",
            "8\n",
            "Hola Daniel, ¿Cómo estás?\n",
            "Hola Gerardo, ¿Cómo estás?\n",
            "None\n",
            "30\n",
            "operación no válida\n",
            "5.0\n",
            "2.3333333333333335\n",
            "5.0\n"
          ],
          "name": "stdout"
        }
      ]
    },
    {
      "cell_type": "code",
      "metadata": {
        "id": "wZDR9Wn9-pP9",
        "outputId": "ab6a49ab-1768-44be-8ec0-c272ec2def73",
        "colab": {
          "base_uri": "https://localhost:8080/",
          "height": 256
        }
      },
      "source": [
        "# valores por defecto\n",
        "def comanda(primer , fuerte , postre='galleta de animalito' ):\n",
        "    print(f\"De entrada pidio : {primer}\")\n",
        "    print(f\"De plato fuerte : {fuerte}\")\n",
        "    print(f\"Postre : {postre}\")\n",
        "\n",
        "# argumentos posicionales con tuplas\n",
        "def comanda_2( *opciones ):\n",
        "     print(opciones)\n",
        "     print(f\"De entrada pidio : {opciones[0] }\")\n",
        "     print(f\"De plato fuerte : {opciones[1] }\")\n",
        "     print(f\"Postre : {opciones[2] }\")\n",
        "     print(\"\\n indicaciones extra:\")\n",
        "     for ind in opciones[3::]:\n",
        "       print(f\"\\t{ind}\")\n",
        " \n",
        "comanda(\"sopa\", \"tortas de papa\", \"gelatina de limón\")\n",
        "comanda(\"sopa\", \"tortas de papa\")\n",
        "comanda_2(\"sopa\", \"tortas de papa\", \"gelatina de limón\",\"las tortas bien doradas, traer 2 limones\")"
      ],
      "execution_count": 35,
      "outputs": [
        {
          "output_type": "stream",
          "text": [
            "De entrada pidio : sopa\n",
            "De plato fuerte : tortas de papa\n",
            "Postre : gelatina de limón\n",
            "De entrada pidio : sopa\n",
            "De plato fuerte : tortas de papa\n",
            "Postre : galleta de animalito\n",
            "('sopa', 'tortas de papa', 'gelatina de limón', 'las tortas bien doradas, traer 2 limones')\n",
            "De entrada pidio : sopa\n",
            "De plato fuerte : tortas de papa\n",
            "Postre : gelatina de limón\n",
            "\n",
            " indicaciones extra:\n",
            "\tlas tortas bien doradas, traer 2 limones\n"
          ],
          "name": "stdout"
        }
      ]
    },
    {
      "cell_type": "code",
      "metadata": {
        "id": "o5lKze_3CiV3",
        "outputId": "574d0265-123b-4386-f506-8787bec04e43",
        "colab": {
          "base_uri": "https://localhost:8080/",
          "height": 127
        }
      },
      "source": [
        "#argumentos posicionales con diccionarios **\n",
        "def comanda_3(**opciones):\n",
        "    print(opciones)\n",
        "    for op in opciones.items():\n",
        "      print(f\"{op[0]} -> {op[1]}\")\n",
        "comanda_3(primer=\"sopa\", fuerte=\"tortas de papa\", postre=\"gelatina de limón\", extra1=\"las tortas bien doradas\", extra2=\"traer 2 limones\")\n"
      ],
      "execution_count": 38,
      "outputs": [
        {
          "output_type": "stream",
          "text": [
            "{'primer': 'sopa', 'fuerte': 'tortas de papa', 'postre': 'gelatina de limón', 'extra1': 'las tortas bien doradas', 'extra2': 'traer 2 limones'}\n",
            "primer -> sopa\n",
            "fuerte -> tortas de papa\n",
            "postre -> gelatina de limón\n",
            "extra1 -> las tortas bien doradas\n",
            "extra2 -> traer 2 limones\n"
          ],
          "name": "stdout"
        }
      ]
    }
  ]
}