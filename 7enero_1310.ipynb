{
  "nbformat": 4,
  "nbformat_minor": 0,
  "metadata": {
    "colab": {
      "name": "7enero_1310.ipynb",
      "provenance": [],
      "authorship_tag": "ABX9TyMaR1LJuNFQUMPkuvT6rrJ4",
      "include_colab_link": true
    },
    "kernelspec": {
      "name": "python3",
      "display_name": "Python 3"
    }
  },
  "cells": [
    {
      "cell_type": "markdown",
      "metadata": {
        "id": "view-in-github",
        "colab_type": "text"
      },
      "source": [
        "<a href=\"https://colab.research.google.com/github/DG3161/edd_1310_2021/blob/master/7enero_1310.ipynb\" target=\"_parent\"><img src=\"https://colab.research.google.com/assets/colab-badge.svg\" alt=\"Open In Colab\"/></a>"
      ]
    },
    {
      "cell_type": "code",
      "metadata": {
        "id": "blSF3pAf0cnx"
      },
      "source": [
        "class Queue:\r\n",
        "    def __init__(self):\r\n",
        "        self__data = list() #[]\r\n",
        "\r\n",
        "    def is_empty(self):\r\n",
        "        return len(self.__data) == 0\r\n",
        "    \r\n",
        "    def length(self):\r\n",
        "        return len(self.__data)\r\n",
        "\r\n",
        "    def enqueue(self,elem):\r\n",
        "        self.data.append(elem)\r\n",
        "\r\n",
        "    def dequeue(self):\r\n",
        "        if not self.is_empty():\r\n",
        "            return self.__data.pop(0)\r\n",
        "        else:\r\n",
        "            return None\r\n",
        "\r\n",
        "    def to_string(self):\r\n",
        "        cadena = \"\"\r\n",
        "        for elem in self.__data:\r\n",
        "            cadena = cadena + \"|\" + str(elem)\r\n",
        "        cadena = cadena + \"|\"\r\n",
        "        return cadena\r\n",
        "\r\n",
        "        # tarea PriorityQueue\r\n",
        "        \r\n",
        "\r\n",
        "class BoundedPriorityQueue:\r\n",
        "    def __init__(self,niveles):\r\n",
        "        self.__data = [Queue() for x in range(niveles) ]\r\n",
        "        self.__size = 0\r\n",
        "\r\n",
        "    def is_empty(self):\r\n",
        "        return self.__size == 0\r\n",
        "\r\n",
        "    def length(self):\r\n",
        "        return self.__size\r\n",
        "\r\n",
        "    def enqueue(self,prioridad,elem):\r\n",
        "        if prioridad >= 0 and prioridad < self.length():\r\n",
        "            self.__data[prioridad].enqueue(elem)\r\n",
        "            self.__size += 1\r\n",
        "\r\n",
        "    def dequeue(self):\r\n",
        "        if not self.is_empty():\r\n",
        "            for nivel in self.__data:\r\n",
        "                if not nivel.is_empty():\r\n",
        "                    self.__size -= 1\r\n",
        "                    return nivel.dequeue()\r\n",
        "\r\n",
        "    def to_string(self):\r\n",
        "        print(\"cola:\")\r\n",
        "        for nivel in range(len(self.__data)):\r\n",
        "            print(f\"Nivel {nivel} --> {self.__data[nivel].to_string()}\")\r\n",
        "\r\n",
        "\r\n",
        "\r\n",
        "\r\n",
        "\r\n",
        "\r\n"
      ],
      "execution_count": 3,
      "outputs": []
    },
    {
      "cell_type": "code",
      "metadata": {
        "colab": {
          "base_uri": "https://localhost:8080/",
          "height": 246
        },
        "id": "qAi3uRxO28Qt",
        "outputId": "df3fc9b4-6579-4ec0-aa97-f0b993f685a6"
      },
      "source": [
        "from queue import Queue\r\n",
        "\r\n",
        "q1 = Queue()\r\n",
        "q1.enqueue(3)\r\n",
        "q1.enqueue(33)\r\n",
        "q1.enqueue(23)\r\n",
        "print(q1.to_string())\r\n",
        "\r\n",
        "print(\"prueba 2 de queue\")\r\n",
        "c1 = {\"id\" : 1, \"nombre\": \"Mario\", \"balance\": 20.5}\r\n",
        "c2 = {\"id\" : 2, \"nombre\": \"diana\", \"balance\": 3265.5}\r\n",
        "c3 = {\"id\" : 3, \"nombre\": \"bartolo\", \"balance\": 10000.5}\r\n",
        "\r\n",
        "atencion = Queue()\r\n",
        "atencion.enqueue(c1)\r\n",
        "atencion.enqueue(c2)\r\n",
        "atencion.enqueue(c3)\r\n",
        "print(atencion.to_string())\r\n",
        "siguiente = atencion.dequeue()\r\n",
        "print(f\"Bienvenido sr { siguiente['nombre']},en que podemos servirle el dia de hoy\")\r\n",
        "print(atencion.to_string())\r\n",
        "\r\n",
        "print(\"pruebas de las colas con prioridad acotada\")\r\n",
        "\r\n",
        "maestres = {\"prioridad\":4 ,\"descripcion\":\"Maestre\",\"personas\":[\"juan p\",\"diego h\"]}\r\n",
        "niños = {\"prioridad\":2 ,\"descripcion\":\"Niños\",\"personas\":[\"Santi h\",\"angel h\"]}\r\n",
        "mecanicos = {\"prioridad\":4 ,\"descripcion\":\"Mecanicos\",\"personas\":[\"diana t\",\"maria z\"]}\r\n",
        "\r\n",
        "cpa = BounderPriorityQueue(7)\r\n",
        "cpa.enqueue(maestres['prioridad'], maestres)\r\n",
        "cpa.enqueue(niños['prioridad'], niños)\r\n",
        "cpa.enqueue(mecanicos['prioridad'], mecanicos)\r\n",
        "cpa.to_string()\r\n",
        "sig"
      ],
      "execution_count": 4,
      "outputs": [
        {
          "output_type": "error",
          "ename": "AttributeError",
          "evalue": "ignored",
          "traceback": [
            "\u001b[0;31m---------------------------------------------------------------------------\u001b[0m",
            "\u001b[0;31mAttributeError\u001b[0m                            Traceback (most recent call last)",
            "\u001b[0;32m<ipython-input-4-f470de7b2c0b>\u001b[0m in \u001b[0;36m<module>\u001b[0;34m()\u001b[0m\n\u001b[1;32m      2\u001b[0m \u001b[0;34m\u001b[0m\u001b[0m\n\u001b[1;32m      3\u001b[0m \u001b[0mq1\u001b[0m \u001b[0;34m=\u001b[0m \u001b[0mQueue\u001b[0m\u001b[0;34m(\u001b[0m\u001b[0;34m)\u001b[0m\u001b[0;34m\u001b[0m\u001b[0;34m\u001b[0m\u001b[0m\n\u001b[0;32m----> 4\u001b[0;31m \u001b[0mq1\u001b[0m\u001b[0;34m.\u001b[0m\u001b[0menqueue\u001b[0m\u001b[0;34m(\u001b[0m\u001b[0;36m3\u001b[0m\u001b[0;34m)\u001b[0m\u001b[0;34m\u001b[0m\u001b[0;34m\u001b[0m\u001b[0m\n\u001b[0m\u001b[1;32m      5\u001b[0m \u001b[0mq1\u001b[0m\u001b[0;34m.\u001b[0m\u001b[0menqueue\u001b[0m\u001b[0;34m(\u001b[0m\u001b[0;36m33\u001b[0m\u001b[0;34m)\u001b[0m\u001b[0;34m\u001b[0m\u001b[0;34m\u001b[0m\u001b[0m\n\u001b[1;32m      6\u001b[0m \u001b[0mq1\u001b[0m\u001b[0;34m.\u001b[0m\u001b[0menqueue\u001b[0m\u001b[0;34m(\u001b[0m\u001b[0;36m23\u001b[0m\u001b[0;34m)\u001b[0m\u001b[0;34m\u001b[0m\u001b[0;34m\u001b[0m\u001b[0m\n",
            "\u001b[0;31mAttributeError\u001b[0m: 'Queue' object has no attribute 'enqueue'"
          ]
        }
      ]
    },
    {
      "cell_type": "code",
      "metadata": {
        "id": "56UYUMlZ3tDv"
      },
      "source": [
        ""
      ],
      "execution_count": null,
      "outputs": []
    }
  ]
}