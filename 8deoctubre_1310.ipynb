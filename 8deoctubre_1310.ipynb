{
  "nbformat": 4,
  "nbformat_minor": 0,
  "metadata": {
    "colab": {
      "name": "8deoctubre_1310.ipynb",
      "provenance": [],
      "authorship_tag": "ABX9TyNYkkR5smYAxMIeY1kkOlHq",
      "include_colab_link": true
    },
    "kernelspec": {
      "name": "python3",
      "display_name": "Python 3"
    }
  },
  "cells": [
    {
      "cell_type": "markdown",
      "metadata": {
        "id": "view-in-github",
        "colab_type": "text"
      },
      "source": [
        "<a href=\"https://colab.research.google.com/github/DG3161/edd_1310_2021/blob/master/8deoctubre_1310.ipynb\" target=\"_parent\"><img src=\"https://colab.research.google.com/assets/colab-badge.svg\" alt=\"Open In Colab\"/></a>"
      ]
    },
    {
      "cell_type": "code",
      "metadata": {
        "id": "qd3eJAjX9y8A",
        "outputId": "e011e2fa-f7ba-4243-d804-777c446b254b",
        "colab": {
          "base_uri": "https://localhost:8080/",
          "height": 319
        }
      },
      "source": [
        "# listas multi dimensión\n",
        "monitores =[[\"Samsung\",\"17.3 \\\"\",1024],[\"BenQ\",\"40\\\"\",2048]]\n",
        "procesadores = [[\"Intel\",\"i7\",3.4],[\"AMD\",\"razzer\",3.3],[\"Intel\",\"i3\",3.1]]\n",
        "memorias = [[\"Kingston\", \"8GB\",\"DDR4\"],[\"Kingston\", \"16GB\",\"DDR3\"],[\"ADATA\", \"32GB\",\"DDR4\"]]\n",
        "\n",
        "componentes = [monitores,procesadores,memorias]\n",
        "\n",
        "print(componentes[1])\n",
        "print(componentes[2][1][1])\n",
        "print(int(componentes[0][1][2])*2)\n",
        "print(componentes[1][1][1][1:4])\n",
        "\n",
        "# adata\n",
        "print(componentes[2][2][0][0:5].lower())\n",
        "componentes[2].append(\"Patito\",\"32GB\",\"DDR4\")\n",
        "print(componentes[2])"
      ],
      "execution_count": 15,
      "outputs": [
        {
          "output_type": "stream",
          "text": [
            "[['Intel', 'i7', 3.4], ['AMD', 'razzer', 3.3], ['Intel', 'i3', 3.1]]\n",
            "16GB\n",
            "4096\n",
            "azz\n",
            "adata\n"
          ],
          "name": "stdout"
        },
        {
          "output_type": "error",
          "ename": "TypeError",
          "evalue": "ignored",
          "traceback": [
            "\u001b[0;31m---------------------------------------------------------------------------\u001b[0m",
            "\u001b[0;31mTypeError\u001b[0m                                 Traceback (most recent call last)",
            "\u001b[0;32m<ipython-input-15-6d436bc2e3aa>\u001b[0m in \u001b[0;36m<module>\u001b[0;34m()\u001b[0m\n\u001b[1;32m     13\u001b[0m \u001b[0;31m# adata\u001b[0m\u001b[0;34m\u001b[0m\u001b[0;34m\u001b[0m\u001b[0;34m\u001b[0m\u001b[0m\n\u001b[1;32m     14\u001b[0m \u001b[0mprint\u001b[0m\u001b[0;34m(\u001b[0m\u001b[0mcomponentes\u001b[0m\u001b[0;34m[\u001b[0m\u001b[0;36m2\u001b[0m\u001b[0;34m]\u001b[0m\u001b[0;34m[\u001b[0m\u001b[0;36m2\u001b[0m\u001b[0;34m]\u001b[0m\u001b[0;34m[\u001b[0m\u001b[0;36m0\u001b[0m\u001b[0;34m]\u001b[0m\u001b[0;34m[\u001b[0m\u001b[0;36m0\u001b[0m\u001b[0;34m:\u001b[0m\u001b[0;36m5\u001b[0m\u001b[0;34m]\u001b[0m\u001b[0;34m.\u001b[0m\u001b[0mlower\u001b[0m\u001b[0;34m(\u001b[0m\u001b[0;34m)\u001b[0m\u001b[0;34m)\u001b[0m\u001b[0;34m\u001b[0m\u001b[0;34m\u001b[0m\u001b[0m\n\u001b[0;32m---> 15\u001b[0;31m \u001b[0mcomponentes\u001b[0m\u001b[0;34m[\u001b[0m\u001b[0;36m2\u001b[0m\u001b[0;34m]\u001b[0m\u001b[0;34m.\u001b[0m\u001b[0mappend\u001b[0m\u001b[0;34m(\u001b[0m\u001b[0;34m\"Patito\"\u001b[0m\u001b[0;34m,\u001b[0m\u001b[0;34m\"32GB\"\u001b[0m\u001b[0;34m,\u001b[0m\u001b[0;34m\"DDR4\"\u001b[0m\u001b[0;34m)\u001b[0m\u001b[0;34m\u001b[0m\u001b[0;34m\u001b[0m\u001b[0m\n\u001b[0m\u001b[1;32m     16\u001b[0m \u001b[0mprint\u001b[0m\u001b[0;34m(\u001b[0m\u001b[0mcomponentes\u001b[0m\u001b[0;34m[\u001b[0m\u001b[0;36m2\u001b[0m\u001b[0;34m]\u001b[0m\u001b[0;34m)\u001b[0m\u001b[0;34m\u001b[0m\u001b[0;34m\u001b[0m\u001b[0m\n",
            "\u001b[0;31mTypeError\u001b[0m: append() takes exactly one argument (3 given)"
          ]
        }
      ]
    },
    {
      "cell_type": "code",
      "metadata": {
        "id": "U9o-acrSICC3",
        "outputId": "39577e02-0a24-4dd5-fa77-b0f7b89026e1",
        "colab": {
          "base_uri": "https://localhost:8080/",
          "height": 182
        }
      },
      "source": [
        "# copiar listas\n",
        "# extender listas\n",
        "\n",
        "frutas = [\"manzana\",\"pera\"]\n",
        "otras_frutas =[\"aguacate\",\"sandía\"]\n",
        "\n",
        "# +sobre listas\n",
        "frutas = frutas + otras_frutas\n",
        "print(frutas)\n",
        "\n",
        "\n",
        "frutas = [\"manzana\",\"pera\"]\n",
        "otras_frutas =[\"aguacate\",\"sandía\"]\n",
        "\n",
        "frutas.append(otras_frutas)\n",
        "print(frutas)\n",
        "\n",
        "# funcion extended()\n",
        "frutas = [\"manzana\",\"pera\"]\n",
        "otras_frutas =[\"aguacate\",\"sandía\"]\n",
        "\n",
        "frutas.extend(otras_frutas)\n",
        "print(frutas)\n",
        "\n",
        "\n",
        "\n",
        "# copiar\n",
        "colores = [\"azul\",\"rojo\", \"verde\",\"violeta\"]\n",
        "otros_colores = colores\n",
        "otros_colores.append(\"rosa\")\n",
        "print(colores)\n",
        "print(otros_colores)\n",
        "\n",
        "una_mas = colores.copy()\n",
        "print(una_mas)\n",
        "una_mas.append(\"gris\")\n",
        "print(una_mas)\n",
        "print(colores)\n",
        "\n",
        "\n",
        "#unpaking de listas\n",
        "\n",
        "alumno = [\"Daniel\",\"García\",\"González\",19,\"ICO\",10]\n",
        "#nombre = alumno[0]\n",
        "#paterno = alumno[1]\n",
        "\n",
        "nombre,paterno,materno,edad,carrera,promedio=alumno\n",
        "print(f\"Alumno:{nombre} carrera: {carrera} promedio={promedio}\")"
      ],
      "execution_count": 38,
      "outputs": [
        {
          "output_type": "stream",
          "text": [
            "['manzana', 'pera', 'aguacate', 'sandía']\n",
            "['manzana', 'pera', ['aguacate', 'sandía']]\n",
            "['manzana', 'pera', 'aguacate', 'sandía']\n",
            "['azul', 'rojo', 'verde', 'violeta', 'rosa']\n",
            "['azul', 'rojo', 'verde', 'violeta', 'rosa']\n",
            "['azul', 'rojo', 'verde', 'violeta', 'rosa']\n",
            "['azul', 'rojo', 'verde', 'violeta', 'rosa', 'gris']\n",
            "['azul', 'rojo', 'verde', 'violeta', 'rosa']\n",
            "Alumno:Daniel carrera: ICO promedio=10\n"
          ],
          "name": "stdout"
        }
      ]
    },
    {
      "cell_type": "markdown",
      "metadata": {
        "id": "IrOuHhpsSHoz"
      },
      "source": [
        "# *Tuplas*\n",
        "- se declaran con ()\n",
        "- selector con []\n",
        "- NO son mutables\n"
      ]
    },
    {
      "cell_type": "code",
      "metadata": {
        "id": "TwquqeduScTH",
        "outputId": "5230a2a6-8c12-424a-f341-2e5b12dddad9",
        "colab": {
          "base_uri": "https://localhost:8080/",
          "height": 72
        }
      },
      "source": [
        "precios = (99.9 , 49.9 , 12.45 , 55.66)\n",
        "print(precios[1])\n",
        "#precios[1] =50.0\n",
        "print(precios)\n",
        "print(precios[2:4])\n",
        "\n"
      ],
      "execution_count": 41,
      "outputs": [
        {
          "output_type": "stream",
          "text": [
            "49.9\n",
            "(99.9, 49.9, 12.45, 55.66)\n",
            "(12.45, 55.66)\n"
          ],
          "name": "stdout"
        }
      ]
    },
    {
      "cell_type": "markdown",
      "metadata": {
        "id": "_wuE5MFRTymN"
      },
      "source": [
        "# *Diccionarios*\n",
        "- se declara con {}\n",
        "- son mutables\n",
        "- conjunto de pares llave: valor\n",
        "- equivalente a los objetos JSON de JavaScript\n"
      ]
    },
    {
      "cell_type": "code",
      "metadata": {
        "id": "RIqXRA2qUFNG",
        "outputId": "5da22ea6-98f0-447f-abee-c94ec037c1fe",
        "colab": {
          "base_uri": "https://localhost:8080/",
          "height": 147
        }
      },
      "source": [
        "cliente = {}\n",
        "print(cliente)\n",
        "alumno = { \"num-cta\" :303030303}\n",
        "print(alumno)\n",
        "\n",
        "alumno = { \n",
        "          \"num_cta\" : 303030303 ,\n",
        "          \"carrera\" : \"ICO\",\n",
        "          \"promedio\" : 9.8,\n",
        "          \"materias\" :[\"EDD\",\"CyP\",\"Calidad\",\"Emprendimiento\"],\n",
        "          \"direccion\" : { \n",
        "                            \"calle\":\"rancho seco\",\n",
        "                            \"numero\" : 23 ,\n",
        "                            \"delegacion\" : \"Neza\",\n",
        "                            \"estado\" : {\n",
        "                                        \"id\" : 15 ,\n",
        "                                        \"nombre\" : \"Estado de Máxico\" ,\n",
        "                                        \"nombre_corto\" : \"EdoMex\"\n",
        "                                        } ,\n",
        "                            \"CP\":57170\n",
        "\n",
        "                        } \n",
        "          }\n",
        "print(alumno)\n",
        "print(alumno['materias'])\n",
        "print(alumno['promedio'])\n",
        "print(alumno['direccion']['estado']['nombre_corto'])"
      ],
      "execution_count": 46,
      "outputs": [
        {
          "output_type": "stream",
          "text": [
            "{}\n",
            "{'num-cta': 303030303}\n",
            "{'num_cta': 303030303, 'carrera': 'ICO', 'promedio': 9.8, 'materias': ['EDD', 'CyP', 'Calidad', 'Emprendimiento'], 'direccion': {'calle': 'rancho seco', 'numero': 23, 'delegacion': 'Neza', 'estado': {'id': 15, 'nombre': 'Estado de Máxico', 'nombre_corto': 'EdoMex'}, 'CP': 57170}}\n",
            "['EDD', 'CyP', 'Calidad', 'Emprendimiento']\n",
            "9.8\n",
            "EdoMex\n"
          ],
          "name": "stdout"
        }
      ]
    }
  ]
}