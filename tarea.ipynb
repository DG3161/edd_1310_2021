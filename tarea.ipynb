{
  "nbformat": 4,
  "nbformat_minor": 0,
  "metadata": {
    "colab": {
      "name": "Untitled16.ipynb",
      "provenance": [],
      "authorship_tag": "ABX9TyOCfCmFUf8iJMYGxXtw2ngn",
      "include_colab_link": true
    },
    "kernelspec": {
      "name": "python3",
      "display_name": "Python 3"
    }
  },
  "cells": [
    {
      "cell_type": "markdown",
      "metadata": {
        "id": "view-in-github",
        "colab_type": "text"
      },
      "source": [
        "<a href=\"https://colab.research.google.com/github/DG3161/edd_1310_2021/blob/master/tarea.ipynb\" target=\"_parent\"><img src=\"https://colab.research.google.com/assets/colab-badge.svg\" alt=\"Open In Colab\"/></a>"
      ]
    },
    {
      "cell_type": "code",
      "metadata": {
        "colab": {
          "base_uri": "https://localhost:8080/"
        },
        "id": "ScsXgUeU2E4S",
        "outputId": "79308466-e16e-4738-db44-bc4322ee7f0c"
      },
      "source": [
        "def suma_lista_rec( lista ):\r\n",
        "    if len(lista) == 1:\r\n",
        "        return lista[0]\r\n",
        "    else:\r\n",
        "        return lista.pop() + suma_lista_rec(lista)\r\n",
        "\r\n",
        "def main():\r\n",
        "    datos = [4,2,3,5] # 14\r\n",
        "    res = suma_lista_rec(datos)\r\n",
        "    print(res)\r\n",
        "main()\r\n"
      ],
      "execution_count": 2,
      "outputs": [
        {
          "output_type": "stream",
          "text": [
            "14\n"
          ],
          "name": "stdout"
        }
      ]
    }
  ]
}