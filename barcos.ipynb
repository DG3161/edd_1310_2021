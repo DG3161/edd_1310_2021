{
  "nbformat": 4,
  "nbformat_minor": 0,
  "metadata": {
    "colab": {
      "name": "7enero_1310.ipynb",
      "provenance": [],
      "authorship_tag": "ABX9TyNQY16otFqETMYgR9yK0VY/",
      "include_colab_link": true
    },
    "kernelspec": {
      "name": "python3",
      "display_name": "Python 3"
    }
  },
  "cells": [
    {
      "cell_type": "markdown",
      "metadata": {
        "id": "view-in-github",
        "colab_type": "text"
      },
      "source": [
        "<a href=\"https://colab.research.google.com/github/DG3161/edd_1310_2021/blob/master/barcos.ipynb\" target=\"_parent\"><img src=\"https://colab.research.google.com/assets/colab-badge.svg\" alt=\"Open In Colab\"/></a>"
      ]
    },
    {
      "cell_type": "code",
      "metadata": {
        "id": "blSF3pAf0cnx"
      },
      "source": [
        "class Queue:\r\n",
        "    def __init__(self):\r\n",
        "        self__data = list() #[]\r\n",
        "\r\n",
        "    def is_empty(self):\r\n",
        "        return len(self.__data) == 0\r\n",
        "    \r\n",
        "    def length(self):\r\n",
        "        return len(self.__data)\r\n",
        "\r\n",
        "    def enqueue(self,elem):\r\n",
        "        self.data.append(elem)\r\n",
        "\r\n",
        "    def dequeue(self):\r\n",
        "        if not self.is_empty():\r\n",
        "            return self.__data.pop(0)\r\n",
        "        else:\r\n",
        "            return None\r\n",
        "\r\n",
        "    def to_string(self):\r\n",
        "        cadena = \"\"\r\n",
        "        for elem in self.__data:\r\n",
        "            cadena = cadena + \"|\" + str(elem)\r\n",
        "        cadena = cadena + \"|\"\r\n",
        "        return cadena\r\n",
        "\r\n",
        "        # tarea PriorityQueue\r\n",
        "        \r\n",
        "\r\n",
        "class BoundedPriorityQueue:\r\n",
        "    def __init__(self,niveles):\r\n",
        "        self.__data = [Queue() for x in range(niveles) ]\r\n",
        "        self.__size = 0\r\n",
        "\r\n",
        "    def is_empty(self):\r\n",
        "        return self.__size == 0\r\n",
        "\r\n",
        "    def length(self):\r\n",
        "        return self.__size\r\n",
        "\r\n",
        "    def enqueue(self,prioridad,elem):\r\n",
        "        if prioridad >= 0 and prioridad < self.length():\r\n",
        "            self.__data[prioridad].enqueue(elem)\r\n",
        "            self.__size += 1\r\n",
        "\r\n",
        "    def dequeue(self):\r\n",
        "        if not self.is_empty():\r\n",
        "            for nivel in self.__data:\r\n",
        "                if not nivel.is_empty():\r\n",
        "                    self.__size -= 1\r\n",
        "                    return nivel.dequeue()\r\n",
        "\r\n",
        "    def to_string(self):\r\n",
        "        print(\"cola:\")\r\n",
        "        for nivel in range(len(self.__data)):\r\n",
        "            print(f\"Nivel {nivel} --> {self.__data[nivel].to_string()}\")\r\n",
        "\r\n",
        "\r\n",
        "\r\n",
        "\r\n",
        "\r\n",
        "\r\n"
      ],
      "execution_count": null,
      "outputs": []
    },
    {
      "cell_type": "code",
      "metadata": {
        "id": "qAi3uRxO28Qt"
      },
      "source": [
        "from queue import Queue\r\n",
        "\r\n",
        "q1 = Queue()\r\n",
        "q1.enqueue(3)\r\n",
        "q1.enqueue(33)\r\n",
        "q1.enqueue(23)\r\n",
        "print(q1.to_string())\r\n",
        "\r\n",
        "print(\"prueba 2 de queue\")\r\n",
        "c1 = {\"id\" : 1, \"nombre\": \"Mario\", \"balance\": 20.5}\r\n",
        "c2 = {\"id\" : 2, \"nombre\": \"diana\", \"balance\": 3265.5}\r\n",
        "c3 = {\"id\" : 3, \"nombre\": \"bartolo\", \"balance\": 10000.5}\r\n",
        "\r\n",
        "atencion = Queue()\r\n",
        "atencion.enqueue(c1)\r\n",
        "atencion.enqueue(c2)\r\n",
        "atencion.enqueue(c3)\r\n",
        "print(atencion.to_string())\r\n",
        "siguiente = atencion.dequeue()\r\n",
        "print(f\"Bienvenido sr { siguiente['nombre']},en que podemos servirle el dia de hoy\")\r\n",
        "print(atencion.to_string())\r\n",
        "\r\n",
        "print(\"pruebas de las colas con prioridad acotada\")\r\n",
        "\r\n",
        "maestres = {\"prioridad\":4 ,\"descripcion\":\"Maestre\",\"personas\":[\"Juan p\",\"Diego h\"]}\r\n",
        "niños = {\"prioridad\":2 ,\"descripcion\":\"Niños\",\"personas\":[\"Santi h\",\"Angel h\"]}\r\n",
        "mecanicos = {\"prioridad\":4 ,\"descripcion\":\"Mecanicos\",\"personas\":[\"Diana t\",\"Maria z\"]}\r\n",
        "niñas = {\"prioridad\":1 ,\"descripcion\":\"Niñas\",\"personas\":[\"Nancy t\",\"Laura S\"]}\r\n",
        "pmayor = {\"prioridad\":2 ,\"descripcion\":\"Pmayor\",\"personas\":[\"Javier\",\"Celia\"]}\r\n",
        "hombres = {\"prioridad\":3 ,\"descripcion\":\"Hombres\",\"personas\":[\"Sebastian \",\"Edgar\"]}\r\n",
        "mujeres = {\"prioridad\":3 ,\"descripcion\":\"Mujeres\",\"personas\":[\"Rosa\",\"Camila\"]}\r\n",
        "vigia = {\"prioridad\":4 ,\"descripcion\":\"Vigia\",\"personas\":[\"Pedro\",\"Cesar\"]}\r\n",
        "timonel = {\"prioridad\":4 ,\"descripcion\":\"Timonel\",\"personas\":[\"Rafael\",\"MIguel\"]}\r\n",
        "capitan = {\"prioridad\":5 ,\"descripcion\":\"Capitan\",\"personas\":[\"Jaime\"]}\r\n",
        "\r\n",
        "cpa = BounderPriorityQueue(7)\r\n",
        "cpa.enqueue(maestres['prioridad'], maestres)\r\n",
        "cpa.enqueue(niños['prioridad'], niños)\r\n",
        "cpa.enqueue(mecanicos['prioridad'], mecanicos)\r\n",
        "cpa.enqueue(niñas['prioridad'], niñas)\r\n",
        "cpa.enqueue(pmayor['prioridad'], pmayor)\r\n",
        "cpa.enqueue(hombres['prioridad'], hombres)\r\n",
        "cpa.enqueue(mujeres['prioridad'], mujeres)\r\n",
        "cpa.enqueue(vigia['prioridad'], vigia)\r\n",
        "cpa.enqueue(timonel['prioridad'], timonel)\r\n",
        "cpa.enqueue(capitan['prioridad'], capitan)\r\n",
        "\r\n",
        "cpa.to_string()\r\n",
        "sig"
      ],
      "execution_count": null,
      "outputs": []
    },
    {
      "cell_type": "code",
      "metadata": {
        "id": "56UYUMlZ3tDv"
      },
      "source": [
        ""
      ],
      "execution_count": null,
      "outputs": []
    }
  ]
}