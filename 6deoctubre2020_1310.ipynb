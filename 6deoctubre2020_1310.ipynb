{
  "nbformat": 4,
  "nbformat_minor": 0,
  "metadata": {
    "colab": {
      "name": "6deoctubre2020_1310.ipynb",
      "provenance": [],
      "authorship_tag": "ABX9TyO4ia6/2yxYnzgG1X1Bpqfn",
      "include_colab_link": true
    },
    "kernelspec": {
      "name": "python3",
      "display_name": "Python 3"
    }
  },
  "cells": [
    {
      "cell_type": "markdown",
      "metadata": {
        "id": "view-in-github",
        "colab_type": "text"
      },
      "source": [
        "<a href=\"https://colab.research.google.com/github/DG3161/edd_1310_2021/blob/master/6deoctubre2020_1310.ipynb\" target=\"_parent\"><img src=\"https://colab.research.google.com/assets/colab-badge.svg\" alt=\"Open In Colab\"/></a>"
      ]
    },
    {
      "cell_type": "code",
      "metadata": {
        "id": "3omCNgEHqJ_K",
        "outputId": "1bc91d9b-9652-48ad-88cf-93e68ff91bb8",
        "colab": {
          "base_uri": "https://localhost:8080/",
          "height": 366
        }
      },
      "source": [
        "# strigng continuación\n",
        "\n",
        "numeros_txt = \"    1,2,3,4  ,5    ,35     ,15    ,12\"\n",
        "print(numeros_txt)\n",
        "numeros_txt = numeros_txt.lstrip().split(',') #lo guarda ncomo un arreglo y cada uno se convierte en un string dentro de la cadena\n",
        "print(numeros_txt)\n",
        " \n",
        "for j in range(len(numeros_txt)):\n",
        "  numeros_txt[ j ] = int(numeros_txt[j].strip())\n",
        "\n",
        "print(numeros_txt)\n",
        "\n",
        "# funcion range()\n",
        "# range(inicio, stop, incremento) \n",
        "print(range(1,10,1))\n",
        "rango = range(1,10,2)\n",
        "\n",
        "for x in rango:\n",
        "  print(x)\n",
        "\n",
        "rango = range(10)\n",
        "for x in rango:\n",
        "  print(x)"
      ],
      "execution_count": null,
      "outputs": [
        {
          "output_type": "stream",
          "text": [
            "    1,2,3,4  ,5    ,35     ,15    ,12\n",
            "['1', '2', '3', '4  ', '5    ', '35     ', '15    ', '12']\n",
            "[1, 2, 3, 4, 5, 35, 15, 12]\n",
            "range(1, 10)\n",
            "1\n",
            "3\n",
            "5\n",
            "7\n",
            "9\n",
            "0\n",
            "1\n",
            "2\n",
            "3\n",
            "4\n",
            "5\n",
            "6\n",
            "7\n",
            "8\n",
            "9\n"
          ],
          "name": "stdout"
        }
      ]
    },
    {
      "cell_type": "markdown",
      "metadata": {
        "id": "a8I93RIzxFEe"
      },
      "source": [
        "# ***listas***\n",
        "- mutables\n",
        "- declaran con []\n",
        "- selector [ int ]\n",
        "- pueden ser de cualquier tipo y mezclados\n",
        "\n",
        "# *tuplas*\n",
        "- no mutables \n",
        "- declaran con ()\n",
        "- selector [int]\n",
        "\n",
        "# *diccionarios *\n",
        "- son mutables\n",
        "- son conjunto de partes llave:valor\n",
        "- equivalente a los objetos JSON de javascript\n",
        "\n",
        "# *conjuntos*\n",
        "- representación de la teoría de conjuntos\n"
      ]
    },
    {
      "cell_type": "code",
      "metadata": {
        "id": "tS9b7rSiyVB8",
        "outputId": "61817726-a0eb-4730-9319-cded6e61854b",
        "colab": {
          "base_uri": "https://localhost:8080/",
          "height": 146
        }
      },
      "source": [
        "# Listas\n",
        "frutas = [\"Pera\",\"Manzana\",\"fresa\",\"Kiwi\",\"Naranja\"]\n",
        "print(frutas)\n",
        "cosas =[\"cuaderno\", 2,3.1416, True, False, [\"rojo\", \"azul\"]]\n",
        "print(cosas)\n",
        "frutas[2]=\"Fresa\" #frutas[2] = frutas[2].capitalize\n",
        "print(frutas)\n",
        "\n",
        "# agregar a lista\n",
        "frutas.append(\"Aguacate\")  # inserta datos al final de la lista \n",
        "print(frutas)\n",
        "frutas.insert(2, \"Sandía\") # inserta datos y es necesario dar indicacion de la posición\n",
        "print(frutas)\n",
        "\n",
        "# Concatenar listas\n",
        "fecha = [\"06\", \"10\", \"2020\"] # 06/10/2020\n",
        "print(fecha)\n",
        "fecha_str = \"/\".join(fecha)\n",
        "print(fecha_str)\n",
        "\n"
      ],
      "execution_count": null,
      "outputs": [
        {
          "output_type": "stream",
          "text": [
            "['Pera', 'Manzana', 'fresa', 'Kiwi', 'Naranja']\n",
            "['cuaderno', 2, 3.1416, True, False, ['rojo', 'azul']]\n",
            "['Pera', 'Manzana', 'Fresa', 'Kiwi', 'Naranja']\n",
            "['Pera', 'Manzana', 'Fresa', 'Kiwi', 'Naranja', 'Aguacate']\n",
            "['Pera', 'Manzana', 'Sandía', 'Fresa', 'Kiwi', 'Naranja', 'Aguacate']\n",
            "['06', '10', '2020']\n",
            "06/10/2020\n"
          ],
          "name": "stdout"
        }
      ]
    },
    {
      "cell_type": "code",
      "metadata": {
        "id": "K35Nd7pK6CDf"
      },
      "source": [
        ""
      ],
      "execution_count": null,
      "outputs": []
    },
    {
      "cell_type": "code",
      "metadata": {
        "id": "srDkGuBp3TUf",
        "outputId": "c9c30bc0-2561-44d6-ea0f-82e05b00ba8d",
        "colab": {
          "base_uri": "https://localhost:8080/",
          "height": 219
        }
      },
      "source": [
        "# Eliminar elemntos\n",
        "cosas =[\"cuaderno\", 2,3.1416, True, False, [\"rojo\", \"azul\"]]\n",
        "print(cosas)\n",
        "cosas.append(\"Libro\")\n",
        "cosas.append(\"Lápiz\")\n",
        "print(cosas)\n",
        "algo = cosas.pop()\n",
        "print(cosas)\n",
        "print(algo)\n",
        "\n",
        "algo = cosas.pop(2)\n",
        "print(cosas)\n",
        "print(algo)\n",
        "cosas.remove(2)\n",
        "print(cosas)\n",
        "\n",
        "# Vaciar una lista\n",
        "cosas.clear()\n",
        "print(cosas)\n",
        "\n",
        "# Ordenar\n",
        "print(frutas)\n",
        "frutas.sort()\n",
        "print(frutas)\n",
        "cosas.sort()\n",
        "print(cosas)\n",
        "\n"
      ],
      "execution_count": null,
      "outputs": [
        {
          "output_type": "stream",
          "text": [
            "['cuaderno', 2, 3.1416, True, False, ['rojo', 'azul']]\n",
            "['cuaderno', 2, 3.1416, True, False, ['rojo', 'azul'], 'Libro', 'Lápiz']\n",
            "['cuaderno', 2, 3.1416, True, False, ['rojo', 'azul'], 'Libro']\n",
            "Lápiz\n",
            "['cuaderno', 2, True, False, ['rojo', 'azul'], 'Libro']\n",
            "3.1416\n",
            "['cuaderno', True, False, ['rojo', 'azul'], 'Libro']\n",
            "[]\n",
            "['Aguacate', 'Fresa', 'Kiwi', 'Manzana', 'Naranja', 'Pera', 'Sandía']\n",
            "['Aguacate', 'Fresa', 'Kiwi', 'Manzana', 'Naranja', 'Pera', 'Sandía']\n",
            "[]\n"
          ],
          "name": "stdout"
        }
      ]
    },
    {
      "cell_type": "code",
      "metadata": {
        "id": "MKMsJRFi7F8T",
        "outputId": "e6097381-3bb8-4ccd-901d-82d67db2578a",
        "colab": {
          "base_uri": "https://localhost:8080/",
          "height": 146
        }
      },
      "source": [
        "# Slicing\n",
        "\n",
        "cosas =[\"cuaderno\", 2,3.1416, True, False, [\"rojo\", \"azul\"]]\n",
        "print(cosas[3:5:1])\n",
        "print(cosas)\n",
        "print(cosas[0][3:5])\n",
        "\n",
        "numeros = [0,1,2,3,4,5,6,7,8,9,10,11,12,13,14,15]\n",
        "print(numeros[8:13])\n",
        "\n",
        "# Sustituir rebanada -2,2 -> [0,1,2,3,4,5,6,7,8,9,10,11,12,13,14,15]\n",
        "\n",
        "numeros[8:13] =[-2,2]\n",
        "print(numeros)\n",
        "\n",
        "# preguntar por existencia\n",
        "print(-2 in numeros)\n",
        "print(-20 in numeros)\n"
      ],
      "execution_count": 37,
      "outputs": [
        {
          "output_type": "stream",
          "text": [
            "[True, False]\n",
            "['cuaderno', 2, 3.1416, True, False, ['rojo', 'azul']]\n",
            "de\n",
            "[8, 9, 10, 11, 12]\n",
            "[0, 1, 2, 3, 4, 5, 6, 7, -2, 2, 13, 14, 15]\n",
            "True\n",
            "False\n"
          ],
          "name": "stdout"
        }
      ]
    },
    {
      "cell_type": "markdown",
      "metadata": {
        "id": "x6y6JmMG-kfQ"
      },
      "source": [
        "# *Listas multidimensión*\n",
        "listas dentro de listas\n"
      ]
    },
    {
      "cell_type": "code",
      "metadata": {
        "id": "hTACJPtc-upi",
        "outputId": "aa350698-36b1-409b-ef64-b6fdfe4be0c5",
        "colab": {
          "base_uri": "https://localhost:8080/",
          "height": 221
        }
      },
      "source": [
        "computadoras = [\"HP\",\"Mac Book Pro 17\", \"Mate Book\", \"Lenovo Legión\"]\n",
        "oss = [\"Windows 10\", \"Linux\", \"Android\", \"IOS\"]\n",
        "\n",
        "computo = [computadoras , oss]\n",
        "print(computo[0])\n",
        "print(computo[1])\n",
        "print(computo[0][2])\n",
        "print(computo[0][2][0:5])\n",
        "print(computo[0][3][5: :-1])\n",
        "print(computo[0][3][-8: :-1])\n",
        "print(\"Linux\" in computo[1])\n",
        "dbms = [ [\"Mysql\",\"Open Source\", False] , [\"MS SQL Server\", \"de paga\", True]]\n",
        "computo.append(dbms)\n",
        "print(computo)\n",
        "print(computo[2][0][0])\n",
        "print(computo[2][1][1])\n",
        "\n",
        "\n",
        "\n"
      ],
      "execution_count": 47,
      "outputs": [
        {
          "output_type": "stream",
          "text": [
            "['HP', 'Mac Book Pro 17', 'Mate Book', 'Lenovo Legión']\n",
            "['Windows 10', 'Linux', 'Android', 'IOS']\n",
            "Mate Book\n",
            "Mate \n",
            "ovoneL\n",
            "ovoneL\n",
            "True\n",
            "[['HP', 'Mac Book Pro 17', 'Mate Book', 'Lenovo Legión'], ['Windows 10', 'Linux', 'Android', 'IOS'], [['Mysql', 'Open Source', False], ['MS SQL Server', 'de paga', True]]]\n",
            "Mysql\n",
            "de paga\n"
          ],
          "name": "stdout"
        }
      ]
    }
  ]
}