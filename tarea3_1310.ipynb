{
  "nbformat": 4,
  "nbformat_minor": 0,
  "metadata": {
    "colab": {
      "name": "tarea3_1310.ipynb",
      "provenance": [],
      "authorship_tag": "ABX9TyPmT9N6GOanp3Ljkjr0kgn1",
      "include_colab_link": true
    },
    "kernelspec": {
      "name": "python3",
      "display_name": "Python 3"
    }
  },
  "cells": [
    {
      "cell_type": "markdown",
      "metadata": {
        "id": "view-in-github",
        "colab_type": "text"
      },
      "source": [
        "<a href=\"https://colab.research.google.com/github/DG3161/edd_1310_2021/blob/master/tarea3_1310.ipynb\" target=\"_parent\"><img src=\"https://colab.research.google.com/assets/colab-badge.svg\" alt=\"Open In Colab\"/></a>"
      ]
    },
    {
      "cell_type": "code",
      "metadata": {
        "id": "cjnGRkYRwZ6v",
        "outputId": "e72da5ea-f7b3-4738-fe58-28d9547c41bc",
        "colab": {
          "base_uri": "https://localhost:8080/",
          "height": 72
        }
      },
      "source": [
        "class Persona:\n",
        "\n",
        "    def __init__(self, n, ed, est):\n",
        "        self.__nombre = n\n",
        "        self.__edad = ed\n",
        "        self.__estatura = est\n",
        "  \n",
        "    def to_string( self ):\n",
        "        return \"Nombre:\"+self.__nombre+\"    Edad:\"+self.__edad+\"    Estatura:\"+self.__estatura\n",
        "\n",
        "    def comer(self):\n",
        "        print(\"Daniel está comiendo.\")\n",
        "\n",
        "    def dormir(self):\n",
        "        print(\"Daniel está durmiendo\")\n",
        "\n",
        "\n",
        "personax = Persona(\" Daniel\",\" 19\",\" 1.70\")\n",
        "personax.__nombre = \"Daniel\"\n",
        "print(personax.to_string())\n",
        "persona_x.comer()\n",
        "persona_x.dormir()\n",
        "\n"
      ],
      "execution_count": 90,
      "outputs": [
        {
          "output_type": "stream",
          "text": [
            "Nombre: Daniel    Edad: 19    Estatura: 1.70\n",
            "la persona está comiendo.\n",
            "la persona está durmiendo\n"
          ],
          "name": "stdout"
        }
      ]
    },
    {
      "cell_type": "code",
      "metadata": {
        "id": "1u_EbYY5yKTG",
        "outputId": "88c6b737-1518-409b-e07e-3af398deb675",
        "colab": {
          "base_uri": "https://localhost:8080/",
          "height": 54
        }
      },
      "source": [
        "# Este fue como una prueba \n",
        "class Persona:\n",
        "\n",
        "  def __init__(self, n, ed, est):\n",
        "    self.nombre = n\n",
        "    self.edad = ed\n",
        "    self.estatura = est\n",
        "  \n",
        "  \n",
        "  def comer(self):\n",
        "    print(\"Daniel está comiendo.\")\n",
        "\n",
        "  def dormir(self):\n",
        "    print(\"Daniel está durmiendo\")\n",
        "\n",
        "\n",
        "Daniel = Persona(\"Daniel\",\"19\",\"1.70\")\n",
        "Daniel.comer()\n",
        "Daniel.dormir()"
      ],
      "execution_count": 95,
      "outputs": [
        {
          "output_type": "stream",
          "text": [
            "Daniel está comiendo.\n",
            "Daniel está durmiendo\n"
          ],
          "name": "stdout"
        }
      ]
    },
    {
      "cell_type": "code",
      "metadata": {
        "id": "NRA3hqOp8RcL",
        "outputId": "3612501c-ca62-4637-f9d1-97524849f94f",
        "colab": {
          "base_uri": "https://localhost:8080/",
          "height": 72
        }
      },
      "source": [
        "class Celular:\n",
        "\n",
        "    def __init__(self, marca, modelo, memoria):\n",
        "        self.__marca = marca\n",
        "        self.__modelo = modelo\n",
        "        self.__memoria = memoria\n",
        "  \n",
        "    def to_string( self ):\n",
        "        return \"Marca:\"+self.__marca+\"      Modelo:\"+self.__modelo+\"        Memoria:\"+self.__memoria\n",
        "\n",
        "    def llamar(self):\n",
        "        print(\"Llamada saliente\")\n",
        "\n",
        "    def alarma(self):\n",
        "        print(\"alarma programada\")\n",
        "\n",
        "\n",
        "cel = Celular(\" Samsung\",\" GalaxyJ6\",\" 32GB\")\n",
        "cel.__marca = \"Daniel\"\n",
        "print(cel.to_string())\n",
        "cel.llamar()\n",
        "cel.alarma()\n"
      ],
      "execution_count": 97,
      "outputs": [
        {
          "output_type": "stream",
          "text": [
            "Marca: Samsung      Modelo: GalaxyJ6        Memoria: 32GB\n",
            "Llamada saliente\n",
            "alarma programada\n"
          ],
          "name": "stdout"
        }
      ]
    }
  ]
}