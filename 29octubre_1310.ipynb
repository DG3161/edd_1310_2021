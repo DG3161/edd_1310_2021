{
  "nbformat": 4,
  "nbformat_minor": 0,
  "metadata": {
    "colab": {
      "name": "29octubre_1310.ipynb",
      "provenance": [],
      "authorship_tag": "ABX9TyNZVTRva7JaLJYahuPnfha8",
      "include_colab_link": true
    },
    "kernelspec": {
      "name": "python3",
      "display_name": "Python 3"
    }
  },
  "cells": [
    {
      "cell_type": "markdown",
      "metadata": {
        "id": "view-in-github",
        "colab_type": "text"
      },
      "source": [
        "<a href=\"https://colab.research.google.com/github/DG3161/edd_1310_2021/blob/master/29octubre_1310.ipynb\" target=\"_parent\"><img src=\"https://colab.research.google.com/assets/colab-badge.svg\" alt=\"Open In Colab\"/></a>"
      ]
    },
    {
      "cell_type": "code",
      "metadata": {
        "id": "audu07bVUVSR"
      },
      "source": [
        "class Array:\n",
        "    def __init__( self , tam):\n",
        "        self.__info = [0 for x in range(tam)]\n",
        "    \n",
        "    def get_item(self , posicion ):\n",
        "        dato = -1\n",
        "        try:\n",
        "            dato = self.__info[posicion]           \n",
        "        except Exception as e:\n",
        "            print(\"Error de posicion\")\n",
        "            dato = \"Error\"\n",
        "    \n",
        "        return dato\n",
        "    def set_item(self ,dato, posicion):\n",
        "        try:\n",
        "            self.__info[posicion]\n",
        "        except Exception as e:\n",
        "            print(\"Error de posicion\")\n",
        "    \n",
        "    def get_length(self):\n",
        "        return len(self.__info)\n",
        "\n",
        "    def clear(self , dato):\n",
        "        self.__info = [dato for x in range(len(self.__info))]\n",
        "\n",
        "    def __iter__(self):\n",
        "        return _IteradorArreglo(self.__info)\n",
        "\n",
        "class _IteradorArreglo:\n",
        "    def __init__( self , arr ):\n",
        "        self.__arr = arr\n",
        "        self._indice = 0\n",
        "\n",
        "    def __iter__( self ):\n",
        "        return self\n",
        "\n",
        "    def __next__( self ):\n",
        "        if self.__indice < len(self.__arr):\n",
        "            dato = self.__arr[self.__indice]\n",
        "            self.__indice += 1\n",
        "            return dato\n",
        "        else:\n",
        "            raise StopIteration\n",
        "\n",
        "\n"
      ],
      "execution_count": 25,
      "outputs": []
    },
    {
      "cell_type": "markdown",
      "metadata": {
        "id": "Oj6QFtXsdla0"
      },
      "source": [
        ""
      ]
    }
  ]
}